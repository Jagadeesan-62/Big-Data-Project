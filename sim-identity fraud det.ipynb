{
 "cells": [
  {
   "cell_type": "code",
   "execution_count": 0,
   "metadata": {
    "application/vnd.databricks.v1+cell": {
     "cellMetadata": {
      "byteLimit": 2048000,
      "rowLimit": 10000
     },
     "inputWidgets": {},
     "nuid": "f3d76db9-b4e5-4f8d-a20b-7fbec8452424",
     "showTitle": false,
     "tableResultSettingsMap": {},
     "title": ""
    }
   },
   "outputs": [
    {
     "output_type": "stream",
     "name": "stdout",
     "output_type": "stream",
     "text": [
      "✅ Data Ingested Successfully (workspace.default.fraud_data)\nroot\n |-- event_id: string (nullable = true)\n |-- event_time: timestamp (nullable = true)\n |-- city: string (nullable = true)\n |-- subscriber_id: string (nullable = true)\n |-- sim_serial: string (nullable = true)\n |-- device_imei: string (nullable = true)\n |-- activation_channel: string (nullable = true)\n |-- kyc_status: string (nullable = true)\n |-- identity_document_type: string (nullable = true)\n |-- identity_mismatch_flag: boolean (nullable = true)\n |-- location_variance_km: double (nullable = true)\n |-- failed_verification_attempts: integer (nullable = true)\n |-- recent_sim_swaps_30d: integer (nullable = true)\n |-- account_age_days: integer (nullable = true)\n |-- high_risk_country_flag: boolean (nullable = true)\n |-- topup_amount_last_24h: double (nullable = true)\n |-- suspicious_transaction_flag: boolean (nullable = true)\n |-- fraud_alert_score: double (nullable = true)\n |-- travel_pattern_score: double (nullable = true)\n |-- blacklist_match_flag: boolean (nullable = true)\n |-- escalated_to_fraud_team: boolean (nullable = true)\n |-- key: string (nullable = true)\n\n+------------------------------------+--------------------------+---------+-------------+-------------------+--------------------+------------------+----------+----------------------+----------------------+--------------------+----------------------------+--------------------+----------------+----------------------+---------------------+---------------------------+-------------------+--------------------+--------------------+-----------------------+--------------------------------+\n|event_id                            |event_time                |city     |subscriber_id|sim_serial         |device_imei         |activation_channel|kyc_status|identity_document_type|identity_mismatch_flag|location_variance_km|failed_verification_attempts|recent_sim_swaps_30d|account_age_days|high_risk_country_flag|topup_amount_last_24h|suspicious_transaction_flag|fraud_alert_score  |travel_pattern_score|blacklist_match_flag|escalated_to_fraud_team|key                             |\n+------------------------------------+--------------------------+---------+-------------+-------------------+--------------------+------------------+----------+----------------------+----------------------+--------------------+----------------------------+--------------------+----------------+----------------------+---------------------+---------------------------+-------------------+--------------------+--------------------+-----------------------+--------------------------------+\n|264860c9-2d2f-46a6-adbb-35ee244d630d|2025-01-25 04:12:38.785149|Bengaluru|SUB-44586820 |SIM-179761784122699|IMEI-375820637648073|Retail            |Verified  |National ID           |false                 |1.7522113992049366  |0                           |0                   |2358            |false                 |91.33797203447774    |false                      |0.5965045607842397 |0.5206090038155781  |false               |false                  |SUB-44586820|SIM-179761784122699|\n|28d22734-eff8-4176-bbc1-20d39346fdca|2025-01-16 15:15:39.437378|Delhi    |SUB-52030257 |SIM-018362428755129|IMEI-936298954193378|Retail            |Verified  |National ID           |false                 |1.4618678967293075  |5                           |2                   |1096            |false                 |8.82473601213473     |false                      |0.3550614469278791 |0.4332003138771612  |false               |false                  |SUB-52030257|SIM-018362428755129|\n|272f9269-593c-42b6-9db1-5bb1e248dba5|2025-01-29 00:14:24.045795|Chennai  |SUB-21992727 |SIM-072333343985685|IMEI-162112162126165|Retail            |Verified  |National ID           |false                 |2.3344147172610556  |1                           |2                   |688             |false                 |3.856922363733377    |false                      |0.5147191402061156 |0.5001225106774085  |false               |false                  |SUB-21992727|SIM-072333343985685|\n|8ad96c83-ba4c-468b-bb82-120a7257f963|2025-01-20 04:06:02.161084|Bengaluru|SUB-26776348 |SIM-218605319134711|IMEI-095813122267511|Retail            |Verified  |Driver License        |false                 |2.3974215146233147  |3                           |0                   |3288            |false                 |51.285650291176175   |false                      |0.6912696439954293 |0.4607614901799043  |false               |false                  |SUB-26776348|SIM-218605319134711|\n|8e536be3-4b10-4645-ab07-e6700aec3d59|2025-02-28 19:51:30.285969|Delhi    |SUB-35632018 |SIM-964143599638861|IMEI-077865044878489|Retail            |Verified  |Driver License        |false                 |29.801462972645496  |2                           |0                   |1582            |false                 |41.64016630751814    |true                       |0.14155175779641427|0.8915326292942939  |false               |false                  |SUB-35632018|SIM-964143599638861|\n+------------------------------------+--------------------------+---------+-------------+-------------------+--------------------+------------------+----------+----------------------+----------------------+--------------------+----------------------------+--------------------+----------------+----------------------+---------------------+---------------------------+-------------------+--------------------+--------------------+-----------------------+--------------------------------+\nonly showing top 5 rows\n✅ Using schema: sim_detection\n✅ Bronze table written: sim_detection.bronze\n✅ Silver table written: sim_detection.silver\n✅ Gold table written: sim_detection.gold\n✅ KPIs computed\n✅ KPI tables saved under sim_detection.*\n✅ Business Insights:\nTop City: Bengaluru with 150630 events\nCity with highest average fraud alert score: Chennai (avg score = 0.5008)\nSuspicious events: 25045 / 500000 (5.01%)\nHigh-risk country flagged events: 30127 / 500000 (6.03%)\nAverage Fraud Alert Score across all events: 0.5001\n+------------+-----------------+---------------------+\n|total_events|high_alert_events|high_alert_percentage|\n+------------+-----------------+---------------------+\n|500000      |150076           |30.02                |\n+------------+-----------------+---------------------+\n\n✅ KPI data ready for visualization tools (sim_detection.kpi_export_city)\n\uD83C\uDFAF End-to-End Simulated Telecom Fraud Detection Pipeline Completed Successfully\n"
     ]
    }
   ],
   "source": [
    "# ===============================================================\n",
    "# \uD83D\uDE80 TELECOM SIMULATION FRAUD DETECTION PIPELINE - End-to-End (Managed Table)\n",
    "# Input: workspace.default.fraud_data\n",
    "# Database / Schema: sim_detection (auto-created if missing)\n",
    "# ===============================================================\n",
    "\n",
    "from pyspark.sql import SparkSession\n",
    "from pyspark.sql.functions import (\n",
    "    col, when, count, avg, sum, round, lit, expr, concat_ws, to_timestamp\n",
    ")\n",
    "\n",
    "# -----------------------------\n",
    "# 1️⃣ SETUP SPARK SESSION\n",
    "# -----------------------------\n",
    "spark = (\n",
    "    SparkSession.builder\n",
    "    .appName(\"SimFraudDetectionPipeline\")\n",
    "    .enableHiveSupport()\n",
    "    .getOrCreate()\n",
    ")\n",
    "\n",
    "# -----------------------------\n",
    "# 2️⃣ INGESTION - Read Managed Table (user-provided)\n",
    "# -----------------------------\n",
    "df = spark.table(\"workspace.default.fraud_data\")\n",
    "print(\"✅ Data Ingested Successfully (workspace.default.fraud_data)\")\n",
    "df.printSchema()\n",
    "df.show(5, truncate=False)\n",
    "\n",
    "# Ensure event_time is proper timestamp (if stored as string)\n",
    "if \"event_time\" in df.columns:\n",
    "    df = df.withColumn(\"event_time\", to_timestamp(col(\"event_time\")))\n",
    "\n",
    "# -----------------------------\n",
    "# 3️⃣ CREATE DATABASE / SCHEMA (sim_detection)\n",
    "# -----------------------------\n",
    "spark.sql(\"CREATE DATABASE IF NOT EXISTS sim_detection\")\n",
    "spark.sql(\"USE sim_detection\")\n",
    "print(\"✅ Using schema: sim_detection\")\n",
    "\n",
    "# -----------------------------\n",
    "# 4️⃣ BRONZE / SILVER / GOLD TABLES\n",
    "# -----------------------------\n",
    "# Bronze - raw/ingested data (keep original as-is)\n",
    "df.write.mode(\"overwrite\").format(\"delta\").saveAsTable(\"sim_detection.bronze\")\n",
    "print(\"✅ Bronze table written: sim_detection.bronze\")\n",
    "\n",
    "# Silver - clean data: drop rows with null critical fields and deduplicate\n",
    "critical_cols = [\"event_id\", \"event_time\", \"subscriber_id\", \"sim_serial\"]\n",
    "df_silver = df.dropDuplicates().na.drop(subset=[c for c in critical_cols if c in df.columns])\n",
    "df_silver.write.mode(\"overwrite\").format(\"delta\").saveAsTable(\"sim_detection.silver\")\n",
    "print(\"✅ Silver table written: sim_detection.silver\")\n",
    "\n",
    "# Gold - feature engineering / derived columns\n",
    "df_gold = df_silver\n",
    "\n",
    "# create derived key if not present\n",
    "if \"key\" not in df_gold.columns and {\"subscriber_id\", \"sim_serial\"}.issubset(set(df_gold.columns)):\n",
    "    df_gold = df_gold.withColumn(\"key\", concat_ws(\"|\", col(\"subscriber_id\"), col(\"sim_serial\")))\n",
    "\n",
    "# example engineered flags (tweak thresholds as needed)\n",
    "if \"fraud_alert_score\" in df_gold.columns:\n",
    "    df_gold = df_gold.withColumn(\n",
    "        \"high_fraud_alert_flag\",\n",
    "        when(col(\"fraud_alert_score\") >= 0.7, lit(1)).otherwise(lit(0))\n",
    "    )\n",
    "else:\n",
    "    df_gold = df_gold.withColumn(\"high_fraud_alert_flag\", lit(0))\n",
    "\n",
    "if \"recent_sim_swaps_30d\" in df_gold.columns:\n",
    "    df_gold = df_gold.withColumn(\n",
    "        \"recent_sim_swap_flag\",\n",
    "        when(col(\"recent_sim_swaps_30d\") >= 1, lit(1)).otherwise(lit(0))\n",
    "    )\n",
    "else:\n",
    "    df_gold = df_gold.withColumn(\"recent_sim_swap_flag\", lit(0))\n",
    "\n",
    "if \"failed_verification_attempts\" in df_gold.columns:\n",
    "    df_gold = df_gold.withColumn(\n",
    "        \"many_failed_verifications_flag\",\n",
    "        when(col(\"failed_verification_attempts\") >= 3, lit(1)).otherwise(lit(0))\n",
    "    )\n",
    "else:\n",
    "    df_gold = df_gold.withColumn(\"many_failed_verifications_flag\", lit(0))\n",
    "\n",
    "df_gold.write.mode(\"overwrite\").format(\"delta\").saveAsTable(\"sim_detection.gold\")\n",
    "print(\"✅ Gold table written: sim_detection.gold\")\n",
    "\n",
    "# -----------------------------\n",
    "# 5️⃣ PROCESSING & KPIs\n",
    "# -----------------------------\n",
    "# KPI 1: Count by city\n",
    "if \"city\" in df_gold.columns:\n",
    "    kpi_city = df_gold.groupBy(\"city\").agg(count(\"*\").alias(\"total_events\")).orderBy(col(\"total_events\").desc())\n",
    "else:\n",
    "    kpi_city = spark.createDataFrame([], schema=\"city string, total_events long\")\n",
    "\n",
    "# KPI 2: Count by KYC status\n",
    "if \"kyc_status\" in df_gold.columns:\n",
    "    kpi_kyc = df_gold.groupBy(\"kyc_status\").agg(count(\"*\").alias(\"count_by_kyc\"))\n",
    "else:\n",
    "    kpi_kyc = spark.createDataFrame([], schema=\"kyc_status string, count_by_kyc long\")\n",
    "\n",
    "# KPI 3: Average fraud_alert_score by city\n",
    "if \"fraud_alert_score\" in df_gold.columns and \"city\" in df_gold.columns:\n",
    "    kpi_avg_fraud = df_gold.groupBy(\"city\").agg(round(avg(\"fraud_alert_score\"), 4).alias(\"avg_fraud_alert_score\"))\n",
    "else:\n",
    "    kpi_avg_fraud = spark.createDataFrame([], schema=\"city string, avg_fraud_alert_score double\")\n",
    "\n",
    "# KPI 4: Suspicious transactions count (suspicious_transaction_flag)\n",
    "if \"suspicious_transaction_flag\" in df_gold.columns:\n",
    "    kpi_suspicious = df_gold.groupBy().agg(\n",
    "        count(\"*\").alias(\"total_events\"),\n",
    "        sum(expr(\"CASE WHEN suspicious_transaction_flag THEN 1 ELSE 0 END\")).alias(\"suspicious_count\")\n",
    "    ).withColumn(\"suspicious_percentage\", round(col(\"suspicious_count\") / col(\"total_events\") * 100, 2))\n",
    "else:\n",
    "    kpi_suspicious = spark.createDataFrame([(0, 0, 0.0)], schema=\"total_events long, suspicious_count long, suspicious_percentage double\")\n",
    "\n",
    "# KPI 5: High risk country percentage\n",
    "if \"high_risk_country_flag\" in df_gold.columns:\n",
    "    kpi_high_risk = df_gold.groupBy().agg(\n",
    "        count(\"*\").alias(\"total_events\"),\n",
    "        sum(expr(\"CASE WHEN high_risk_country_flag THEN 1 ELSE 0 END\")).alias(\"high_risk_count\")\n",
    "    ).withColumn(\"high_risk_percentage\", round(col(\"high_risk_count\") / col(\"total_events\") * 100, 2))\n",
    "else:\n",
    "    kpi_high_risk = spark.createDataFrame([(0, 0, 0.0)], schema=\"total_events long, high_risk_count long, high_risk_percentage double\")\n",
    "\n",
    "print(\"✅ KPIs computed\")\n",
    "\n",
    "# -----------------------------\n",
    "# 6️⃣ SAVE KPI RESULTS AS MANAGED TABLES (under sim_detection)\n",
    "# -----------------------------\n",
    "kpi_city.write.mode(\"overwrite\").saveAsTable(\"sim_detection.kpi_city_counts\")\n",
    "kpi_kyc.write.mode(\"overwrite\").saveAsTable(\"sim_detection.kpi_kyc_counts\")\n",
    "kpi_avg_fraud.write.mode(\"overwrite\").saveAsTable(\"sim_detection.kpi_avg_fraud_by_city\")\n",
    "kpi_suspicious.write.mode(\"overwrite\").saveAsTable(\"sim_detection.kpi_suspicious_summary\")\n",
    "kpi_high_risk.write.mode(\"overwrite\").saveAsTable(\"sim_detection.kpi_high_risk_summary\")\n",
    "\n",
    "print(\"✅ KPI tables saved under sim_detection.*\")\n",
    "\n",
    "# -----------------------------\n",
    "# 7️⃣ BUSINESS INSIGHTS\n",
    "# -----------------------------\n",
    "print(\"✅ Business Insights:\")\n",
    "\n",
    "# Top city by events\n",
    "try:\n",
    "    top_city_row = kpi_city.limit(1).collect()\n",
    "    if top_city_row:\n",
    "        top_city = top_city_row[0]\n",
    "        print(f\"Top City: {top_city['city']} with {top_city['total_events']} events\")\n",
    "except Exception:\n",
    "    pass\n",
    "\n",
    "# City with highest average fraud alert score\n",
    "try:\n",
    "    top_fraud_city_row = kpi_avg_fraud.orderBy(col(\"avg_fraud_alert_score\").desc()).limit(1).collect()\n",
    "    if top_fraud_city_row:\n",
    "        tfc = top_fraud_city_row[0]\n",
    "        print(f\"City with highest average fraud alert score: {tfc['city']} (avg score = {tfc['avg_fraud_alert_score']})\")\n",
    "except Exception:\n",
    "    pass\n",
    "\n",
    "# Suspicious percentage overall\n",
    "try:\n",
    "    susp_row = kpi_suspicious.collect()[0]\n",
    "    print(f\"Suspicious events: {susp_row['suspicious_count']} / {susp_row['total_events']} ({susp_row['suspicious_percentage']}%)\")\n",
    "except Exception:\n",
    "    pass\n",
    "\n",
    "# High risk country percentage overall\n",
    "try:\n",
    "    hr_row = kpi_high_risk.collect()[0]\n",
    "    print(f\"High-risk country flagged events: {hr_row['high_risk_count']} / {hr_row['total_events']} ({hr_row['high_risk_percentage']}%)\")\n",
    "except Exception:\n",
    "    pass\n",
    "\n",
    "# Overall average fraud_alert_score across dataset\n",
    "if \"fraud_alert_score\" in df_gold.columns:\n",
    "    overall_avg_fraud = df_gold.agg(round(avg(\"fraud_alert_score\"), 4).alias(\"overall_avg\")).collect()[0][\"overall_avg\"]\n",
    "    print(f\"Average Fraud Alert Score across all events: {overall_avg_fraud}\")\n",
    "\n",
    "# Fraud stats summary (total, fraud-like events as high_fraud_alert_flag)\n",
    "fraud_stats = (\n",
    "    df_gold\n",
    "    .select(\n",
    "        count(\"*\").alias(\"total_events\"),\n",
    "        sum(col(\"high_fraud_alert_flag\")).alias(\"high_alert_events\")\n",
    "    )\n",
    "    .withColumn(\"high_alert_percentage\", round(col(\"high_alert_events\") / col(\"total_events\") * 100, 2))\n",
    ")\n",
    "fraud_stats.show(truncate=False)\n",
    "\n",
    "# -----------------------------\n",
    "# 8️⃣ VISUALIZATION PREPARATION\n",
    "# -----------------------------\n",
    "# Export a KPI table for BI tools\n",
    "kpi_city.write.mode(\"overwrite\").saveAsTable(\"sim_detection.kpi_export_city\")\n",
    "print(\"✅ KPI data ready for visualization tools (sim_detection.kpi_export_city)\")\n",
    "\n",
    "# -----------------------------\n",
    "# \uD83C\uDFAF PIPELINE COMPLETE\n",
    "# -----------------------------\n",
    "print(\"\uD83C\uDFAF End-to-End Simulated Telecom Fraud Detection Pipeline Completed Successfully\")\n"
   ]
  },
  {
   "cell_type": "code",
   "execution_count": 0,
   "metadata": {
    "application/vnd.databricks.v1+cell": {
     "cellMetadata": {
      "byteLimit": 2048000,
      "rowLimit": 10000
     },
     "inputWidgets": {},
     "nuid": "858709c6-5e4f-4336-a008-d722b78ce037",
     "showTitle": false,
     "tableResultSettingsMap": {},
     "title": ""
    }
   },
   "outputs": [
    {
     "output_type": "stream",
     "name": "stdout",
     "output_type": "stream",
     "text": [
      "\n===== Showing: sim_detection.bronze =====\n\n"
     ]
    },
    {
     "output_type": "display_data",
     "data": {
      "text/html": [
       "<style scoped>\n",
       "  .table-result-container {\n",
       "    max-height: 300px;\n",
       "    overflow: auto;\n",
       "  }\n",
       "  table, th, td {\n",
       "    border: 1px solid black;\n",
       "    border-collapse: collapse;\n",
       "  }\n",
       "  th, td {\n",
       "    padding: 5px;\n",
       "  }\n",
       "  th {\n",
       "    text-align: left;\n",
       "  }\n",
       "</style><div class='table-result-container'><table class='table-result'><thead style='background-color: white'><tr><th>event_id</th><th>event_time</th><th>city</th><th>subscriber_id</th><th>sim_serial</th><th>device_imei</th><th>activation_channel</th><th>kyc_status</th><th>identity_document_type</th><th>identity_mismatch_flag</th><th>location_variance_km</th><th>failed_verification_attempts</th><th>recent_sim_swaps_30d</th><th>account_age_days</th><th>high_risk_country_flag</th><th>topup_amount_last_24h</th><th>suspicious_transaction_flag</th><th>fraud_alert_score</th><th>travel_pattern_score</th><th>blacklist_match_flag</th><th>escalated_to_fraud_team</th><th>key</th></tr></thead><tbody><tr><td>264860c9-2d2f-46a6-adbb-35ee244d630d</td><td>2025-01-25T04:12:38.785Z</td><td>Bengaluru</td><td>SUB-44586820</td><td>SIM-179761784122699</td><td>IMEI-375820637648073</td><td>Retail</td><td>Verified</td><td>National ID</td><td>false</td><td>1.7522113992049366</td><td>0</td><td>0</td><td>2358</td><td>false</td><td>91.33797203447774</td><td>false</td><td>0.5965045607842397</td><td>0.5206090038155781</td><td>false</td><td>false</td><td>SUB-44586820|SIM-179761784122699</td></tr><tr><td>28d22734-eff8-4176-bbc1-20d39346fdca</td><td>2025-01-16T15:15:39.437Z</td><td>Delhi</td><td>SUB-52030257</td><td>SIM-018362428755129</td><td>IMEI-936298954193378</td><td>Retail</td><td>Verified</td><td>National ID</td><td>false</td><td>1.4618678967293075</td><td>5</td><td>2</td><td>1096</td><td>false</td><td>8.82473601213473</td><td>false</td><td>0.3550614469278791</td><td>0.4332003138771612</td><td>false</td><td>false</td><td>SUB-52030257|SIM-018362428755129</td></tr><tr><td>272f9269-593c-42b6-9db1-5bb1e248dba5</td><td>2025-01-29T00:14:24.045Z</td><td>Chennai</td><td>SUB-21992727</td><td>SIM-072333343985685</td><td>IMEI-162112162126165</td><td>Retail</td><td>Verified</td><td>National ID</td><td>false</td><td>2.3344147172610556</td><td>1</td><td>2</td><td>688</td><td>false</td><td>3.856922363733377</td><td>false</td><td>0.5147191402061156</td><td>0.5001225106774085</td><td>false</td><td>false</td><td>SUB-21992727|SIM-072333343985685</td></tr><tr><td>8ad96c83-ba4c-468b-bb82-120a7257f963</td><td>2025-01-20T04:06:02.161Z</td><td>Bengaluru</td><td>SUB-26776348</td><td>SIM-218605319134711</td><td>IMEI-095813122267511</td><td>Retail</td><td>Verified</td><td>Driver License</td><td>false</td><td>2.3974215146233147</td><td>3</td><td>0</td><td>3288</td><td>false</td><td>51.285650291176175</td><td>false</td><td>0.6912696439954293</td><td>0.4607614901799043</td><td>false</td><td>false</td><td>SUB-26776348|SIM-218605319134711</td></tr><tr><td>8e536be3-4b10-4645-ab07-e6700aec3d59</td><td>2025-02-28T19:51:30.285Z</td><td>Delhi</td><td>SUB-35632018</td><td>SIM-964143599638861</td><td>IMEI-077865044878489</td><td>Retail</td><td>Verified</td><td>Driver License</td><td>false</td><td>29.801462972645496</td><td>2</td><td>0</td><td>1582</td><td>false</td><td>41.64016630751814</td><td>true</td><td>0.14155175779641427</td><td>0.8915326292942939</td><td>false</td><td>false</td><td>SUB-35632018|SIM-964143599638861</td></tr><tr><td>dcb28b61-a728-4c34-8ce4-16bda64f3173</td><td>2025-01-20T02:04:43.885Z</td><td>Bengaluru</td><td>SUB-22551312</td><td>SIM-478482367601474</td><td>IMEI-559355121501655</td><td>Retail</td><td>Verified</td><td>National ID</td><td>false</td><td>1.3477353199557114</td><td>1</td><td>2</td><td>3476</td><td>false</td><td>15.11198175213041</td><td>false</td><td>0.15384774277522273</td><td>0.9296105147274587</td><td>false</td><td>false</td><td>SUB-22551312|SIM-478482367601474</td></tr><tr><td>1afd9be5-75b2-4b64-bbab-4b9acfc2a34a</td><td>2025-01-20T03:54:22.063Z</td><td>Bengaluru</td><td>SUB-58473810</td><td>SIM-209336393196114</td><td>IMEI-755421536391283</td><td>Retail</td><td>Verified</td><td>National ID</td><td>false</td><td>2.3120293764884448</td><td>4</td><td>0</td><td>2998</td><td>false</td><td>9.121308528874035</td><td>false</td><td>0.39058623415691895</td><td>0.5085200580187177</td><td>false</td><td>false</td><td>SUB-58473810|SIM-209336393196114</td></tr><tr><td>5b8f83e5-7846-43ca-8455-f5f170eb1653</td><td>2025-01-25T20:29:36.177Z</td><td>Delhi</td><td>SUB-11583877</td><td>SIM-164841266635045</td><td>IMEI-744563508052454</td><td>Retail</td><td>Verified</td><td>Passport</td><td>false</td><td>0.6341398770354794</td><td>0</td><td>0</td><td>1929</td><td>false</td><td>7.375431973913924</td><td>false</td><td>0.8848914400092779</td><td>0.6408138339191507</td><td>false</td><td>false</td><td>SUB-11583877|SIM-164841266635045</td></tr><tr><td>cf16a279-41ce-4fac-96f1-69d120aa96a9</td><td>2025-01-25T17:46:52.513Z</td><td>Chennai</td><td>SUB-47049001</td><td>SIM-728009854024476</td><td>IMEI-810217141360674</td><td>Retail</td><td>Verified</td><td>National ID</td><td>false</td><td>4.332670869223251</td><td>2</td><td>1</td><td>1627</td><td>false</td><td>8.605111291867159</td><td>false</td><td>0.10139482669867828</td><td>0.9142832836031327</td><td>false</td><td>false</td><td>SUB-47049001|SIM-728009854024476</td></tr><tr><td>3d023d86-7ab9-4e0e-a5fe-c274aa275209</td><td>2025-02-21T00:21:32.652Z</td><td>Hyderabad</td><td>SUB-85629030</td><td>SIM-740783000925574</td><td>IMEI-264561209725957</td><td>Call Center</td><td>Pending</td><td>National ID</td><td>false</td><td>2.157068849057223</td><td>0</td><td>2</td><td>2511</td><td>false</td><td>1.5266793977746125</td><td>false</td><td>0.05356025426171551</td><td>0.7143126442134037</td><td>false</td><td>false</td><td>SUB-85629030|SIM-740783000925574</td></tr></tbody></table></div>"
      ]
     },
     "metadata": {
      "application/vnd.databricks.v1+output": {
       "addedWidgets": {},
       "aggData": [],
       "aggError": "",
       "aggOverflow": false,
       "aggSchema": [],
       "aggSeriesLimitReached": false,
       "aggType": "",
       "arguments": {},
       "columnCustomDisplayInfos": {},
       "data": [
        [
         "264860c9-2d2f-46a6-adbb-35ee244d630d",
         "2025-01-25T04:12:38.785Z",
         "Bengaluru",
         "SUB-44586820",
         "SIM-179761784122699",
         "IMEI-375820637648073",
         "Retail",
         "Verified",
         "National ID",
         false,
         1.7522113992049366,
         0,
         0,
         2358,
         false,
         91.33797203447774,
         false,
         0.5965045607842397,
         0.5206090038155781,
         false,
         false,
         "SUB-44586820|SIM-179761784122699"
        ],
        [
         "28d22734-eff8-4176-bbc1-20d39346fdca",
         "2025-01-16T15:15:39.437Z",
         "Delhi",
         "SUB-52030257",
         "SIM-018362428755129",
         "IMEI-936298954193378",
         "Retail",
         "Verified",
         "National ID",
         false,
         1.4618678967293075,
         5,
         2,
         1096,
         false,
         8.82473601213473,
         false,
         0.3550614469278791,
         0.4332003138771612,
         false,
         false,
         "SUB-52030257|SIM-018362428755129"
        ],
        [
         "272f9269-593c-42b6-9db1-5bb1e248dba5",
         "2025-01-29T00:14:24.045Z",
         "Chennai",
         "SUB-21992727",
         "SIM-072333343985685",
         "IMEI-162112162126165",
         "Retail",
         "Verified",
         "National ID",
         false,
         2.3344147172610556,
         1,
         2,
         688,
         false,
         3.856922363733377,
         false,
         0.5147191402061156,
         0.5001225106774085,
         false,
         false,
         "SUB-21992727|SIM-072333343985685"
        ],
        [
         "8ad96c83-ba4c-468b-bb82-120a7257f963",
         "2025-01-20T04:06:02.161Z",
         "Bengaluru",
         "SUB-26776348",
         "SIM-218605319134711",
         "IMEI-095813122267511",
         "Retail",
         "Verified",
         "Driver License",
         false,
         2.3974215146233147,
         3,
         0,
         3288,
         false,
         51.285650291176175,
         false,
         0.6912696439954293,
         0.4607614901799043,
         false,
         false,
         "SUB-26776348|SIM-218605319134711"
        ],
        [
         "8e536be3-4b10-4645-ab07-e6700aec3d59",
         "2025-02-28T19:51:30.285Z",
         "Delhi",
         "SUB-35632018",
         "SIM-964143599638861",
         "IMEI-077865044878489",
         "Retail",
         "Verified",
         "Driver License",
         false,
         29.801462972645496,
         2,
         0,
         1582,
         false,
         41.64016630751814,
         true,
         0.14155175779641427,
         0.8915326292942939,
         false,
         false,
         "SUB-35632018|SIM-964143599638861"
        ],
        [
         "dcb28b61-a728-4c34-8ce4-16bda64f3173",
         "2025-01-20T02:04:43.885Z",
         "Bengaluru",
         "SUB-22551312",
         "SIM-478482367601474",
         "IMEI-559355121501655",
         "Retail",
         "Verified",
         "National ID",
         false,
         1.3477353199557114,
         1,
         2,
         3476,
         false,
         15.11198175213041,
         false,
         0.15384774277522273,
         0.9296105147274587,
         false,
         false,
         "SUB-22551312|SIM-478482367601474"
        ],
        [
         "1afd9be5-75b2-4b64-bbab-4b9acfc2a34a",
         "2025-01-20T03:54:22.063Z",
         "Bengaluru",
         "SUB-58473810",
         "SIM-209336393196114",
         "IMEI-755421536391283",
         "Retail",
         "Verified",
         "National ID",
         false,
         2.3120293764884448,
         4,
         0,
         2998,
         false,
         9.121308528874035,
         false,
         0.39058623415691895,
         0.5085200580187177,
         false,
         false,
         "SUB-58473810|SIM-209336393196114"
        ],
        [
         "5b8f83e5-7846-43ca-8455-f5f170eb1653",
         "2025-01-25T20:29:36.177Z",
         "Delhi",
         "SUB-11583877",
         "SIM-164841266635045",
         "IMEI-744563508052454",
         "Retail",
         "Verified",
         "Passport",
         false,
         0.6341398770354794,
         0,
         0,
         1929,
         false,
         7.375431973913924,
         false,
         0.8848914400092779,
         0.6408138339191507,
         false,
         false,
         "SUB-11583877|SIM-164841266635045"
        ],
        [
         "cf16a279-41ce-4fac-96f1-69d120aa96a9",
         "2025-01-25T17:46:52.513Z",
         "Chennai",
         "SUB-47049001",
         "SIM-728009854024476",
         "IMEI-810217141360674",
         "Retail",
         "Verified",
         "National ID",
         false,
         4.332670869223251,
         2,
         1,
         1627,
         false,
         8.605111291867159,
         false,
         0.10139482669867828,
         0.9142832836031327,
         false,
         false,
         "SUB-47049001|SIM-728009854024476"
        ],
        [
         "3d023d86-7ab9-4e0e-a5fe-c274aa275209",
         "2025-02-21T00:21:32.652Z",
         "Hyderabad",
         "SUB-85629030",
         "SIM-740783000925574",
         "IMEI-264561209725957",
         "Call Center",
         "Pending",
         "National ID",
         false,
         2.157068849057223,
         0,
         2,
         2511,
         false,
         1.5266793977746125,
         false,
         0.05356025426171551,
         0.7143126442134037,
         false,
         false,
         "SUB-85629030|SIM-740783000925574"
        ]
       ],
       "datasetInfos": [],
       "dbfsResultPath": null,
       "isJsonSchema": true,
       "metadata": {},
       "overflow": false,
       "plotOptions": {
        "customPlotOptions": {},
        "displayType": "table",
        "pivotAggregation": null,
        "pivotColumns": null,
        "xColumns": null,
        "yColumns": null
       },
       "removedWidgets": [],
       "schema": [
        {
         "metadata": "{}",
         "name": "event_id",
         "type": "\"string\""
        },
        {
         "metadata": "{}",
         "name": "event_time",
         "type": "\"timestamp\""
        },
        {
         "metadata": "{}",
         "name": "city",
         "type": "\"string\""
        },
        {
         "metadata": "{}",
         "name": "subscriber_id",
         "type": "\"string\""
        },
        {
         "metadata": "{}",
         "name": "sim_serial",
         "type": "\"string\""
        },
        {
         "metadata": "{}",
         "name": "device_imei",
         "type": "\"string\""
        },
        {
         "metadata": "{}",
         "name": "activation_channel",
         "type": "\"string\""
        },
        {
         "metadata": "{}",
         "name": "kyc_status",
         "type": "\"string\""
        },
        {
         "metadata": "{}",
         "name": "identity_document_type",
         "type": "\"string\""
        },
        {
         "metadata": "{}",
         "name": "identity_mismatch_flag",
         "type": "\"boolean\""
        },
        {
         "metadata": "{}",
         "name": "location_variance_km",
         "type": "\"double\""
        },
        {
         "metadata": "{}",
         "name": "failed_verification_attempts",
         "type": "\"integer\""
        },
        {
         "metadata": "{}",
         "name": "recent_sim_swaps_30d",
         "type": "\"integer\""
        },
        {
         "metadata": "{}",
         "name": "account_age_days",
         "type": "\"integer\""
        },
        {
         "metadata": "{}",
         "name": "high_risk_country_flag",
         "type": "\"boolean\""
        },
        {
         "metadata": "{}",
         "name": "topup_amount_last_24h",
         "type": "\"double\""
        },
        {
         "metadata": "{}",
         "name": "suspicious_transaction_flag",
         "type": "\"boolean\""
        },
        {
         "metadata": "{}",
         "name": "fraud_alert_score",
         "type": "\"double\""
        },
        {
         "metadata": "{}",
         "name": "travel_pattern_score",
         "type": "\"double\""
        },
        {
         "metadata": "{}",
         "name": "blacklist_match_flag",
         "type": "\"boolean\""
        },
        {
         "metadata": "{}",
         "name": "escalated_to_fraud_team",
         "type": "\"boolean\""
        },
        {
         "metadata": "{}",
         "name": "key",
         "type": "\"string\""
        }
       ],
       "type": "table"
      }
     },
     "output_type": "display_data"
    },
    {
     "output_type": "stream",
     "name": "stdout",
     "output_type": "stream",
     "text": [
      "\n===== Showing: sim_detection.silver =====\n\n"
     ]
    },
    {
     "output_type": "display_data",
     "data": {
      "text/html": [
       "<style scoped>\n",
       "  .table-result-container {\n",
       "    max-height: 300px;\n",
       "    overflow: auto;\n",
       "  }\n",
       "  table, th, td {\n",
       "    border: 1px solid black;\n",
       "    border-collapse: collapse;\n",
       "  }\n",
       "  th, td {\n",
       "    padding: 5px;\n",
       "  }\n",
       "  th {\n",
       "    text-align: left;\n",
       "  }\n",
       "</style><div class='table-result-container'><table class='table-result'><thead style='background-color: white'><tr><th>event_id</th><th>event_time</th><th>city</th><th>subscriber_id</th><th>sim_serial</th><th>device_imei</th><th>activation_channel</th><th>kyc_status</th><th>identity_document_type</th><th>identity_mismatch_flag</th><th>location_variance_km</th><th>failed_verification_attempts</th><th>recent_sim_swaps_30d</th><th>account_age_days</th><th>high_risk_country_flag</th><th>topup_amount_last_24h</th><th>suspicious_transaction_flag</th><th>fraud_alert_score</th><th>travel_pattern_score</th><th>blacklist_match_flag</th><th>escalated_to_fraud_team</th><th>key</th></tr></thead><tbody><tr><td>9cd424e7-9f76-47ff-bf4f-4792dfd67d4c</td><td>2025-01-21T22:46:39.470Z</td><td>Hyderabad</td><td>SUB-93885844</td><td>SIM-188262137418499</td><td>IMEI-357227697300543</td><td>Online</td><td>Verified</td><td>Passport</td><td>false</td><td>5.967494081879707</td><td>0</td><td>0</td><td>3467</td><td>false</td><td>115.79477149243756</td><td>false</td><td>0.13306869078655947</td><td>0.8902204621980692</td><td>false</td><td>false</td><td>SUB-93885844|SIM-188262137418499</td></tr><tr><td>b285765e-5077-45e6-8af8-55e5b32be38b</td><td>2025-01-06T07:55:33.425Z</td><td>Mumbai</td><td>SUB-47269321</td><td>SIM-068438383236590</td><td>IMEI-833253840448928</td><td>Call Center</td><td>Verified</td><td>National ID</td><td>false</td><td>4.993648879705308</td><td>0</td><td>1</td><td>2739</td><td>false</td><td>10.142157785654526</td><td>false</td><td>0.6730549345844213</td><td>0.09573332902500431</td><td>false</td><td>false</td><td>SUB-47269321|SIM-068438383236590</td></tr><tr><td>a5dbab30-dc17-4a5c-ac24-f2267a5361b7</td><td>2025-01-26T09:32:29.648Z</td><td>Chennai</td><td>SUB-73971245</td><td>SIM-193122386341361</td><td>IMEI-618539206262913</td><td>Online</td><td>Verified</td><td>Driver License</td><td>false</td><td>4.545890243414115</td><td>0</td><td>3</td><td>660</td><td>false</td><td>30.899774791770454</td><td>false</td><td>0.9931145247345728</td><td>0.16366008821202715</td><td>false</td><td>false</td><td>SUB-73971245|SIM-193122386341361</td></tr><tr><td>a0e93f3f-3921-4e18-b6e3-28cb36af5144</td><td>2025-01-24T01:16:20.027Z</td><td>Bengaluru</td><td>SUB-64155290</td><td>SIM-734943405568631</td><td>IMEI-180215207707254</td><td>Retail</td><td>Verified</td><td>Driver License</td><td>false</td><td>2.469830383601289</td><td>0</td><td>0</td><td>1846</td><td>false</td><td>24.9920899709159</td><td>false</td><td>0.9560431109149438</td><td>0.20179960921898776</td><td>false</td><td>false</td><td>SUB-64155290|SIM-734943405568631</td></tr><tr><td>720d6919-6af5-4e07-bf75-d862c6b2eac6</td><td>2025-01-07T00:15:33.454Z</td><td>Chennai</td><td>SUB-60088511</td><td>SIM-444228905547664</td><td>IMEI-319870895760135</td><td>Retail</td><td>Verified</td><td>National ID</td><td>false</td><td>3.6309313955822855</td><td>0</td><td>1</td><td>1813</td><td>false</td><td>18.222938334694685</td><td>false</td><td>0.8967713852364857</td><td>0.20209472749783108</td><td>false</td><td>false</td><td>SUB-60088511|SIM-444228905547664</td></tr><tr><td>1fa2aab3-45f1-4c7a-a6dd-2fd3011b5a28</td><td>2025-02-13T07:55:48.775Z</td><td>Mumbai</td><td>SUB-75420201</td><td>SIM-900265736555835</td><td>IMEI-571869052152941</td><td>Retail</td><td>Verified</td><td>Driver License</td><td>false</td><td>5.793916416838977</td><td>0</td><td>0</td><td>499</td><td>false</td><td>3.164832009094706</td><td>false</td><td>0.013862003805906187</td><td>0.9100942933575021</td><td>false</td><td>false</td><td>SUB-75420201|SIM-900265736555835</td></tr><tr><td>3a57ee0a-929c-4299-ad1e-77cbd2bd65f8</td><td>2025-02-12T06:59:58.245Z</td><td>Hyderabad</td><td>SUB-05605783</td><td>SIM-494510489305358</td><td>IMEI-226510349382861</td><td>Call Center</td><td>Verified</td><td>National ID</td><td>false</td><td>7.558378331167349</td><td>0</td><td>1</td><td>2697</td><td>false</td><td>4.1428859544711845</td><td>false</td><td>0.2472780991114355</td><td>0.3286724698394208</td><td>false</td><td>false</td><td>SUB-05605783|SIM-494510489305358</td></tr><tr><td>2307c7fa-4d33-4f4d-9cc4-af7fe0475a38</td><td>2025-01-12T20:09:45.131Z</td><td>Hyderabad</td><td>SUB-83602936</td><td>SIM-609956716396842</td><td>IMEI-038697894756325</td><td>Retail</td><td>Verified</td><td>Driver License</td><td>false</td><td>1.184860362902835</td><td>0</td><td>0</td><td>2025</td><td>false</td><td>7.460800905874767</td><td>false</td><td>0.39321689906373725</td><td>0.4902720184289985</td><td>false</td><td>false</td><td>SUB-83602936|SIM-609956716396842</td></tr><tr><td>5c22eb72-7efa-4b5e-b5c9-c1a9f814441a</td><td>2025-02-13T05:22:09.479Z</td><td>Mumbai</td><td>SUB-44052720</td><td>SIM-657504623254414</td><td>IMEI-832525879454645</td><td>Online</td><td>Verified</td><td>National ID</td><td>false</td><td>1.5423603277490257</td><td>2</td><td>2</td><td>2101</td><td>false</td><td>23.81182318450461</td><td>false</td><td>0.4631964709523835</td><td>0.7195789734409006</td><td>false</td><td>false</td><td>SUB-44052720|SIM-657504623254414</td></tr><tr><td>aa726502-2349-4c2a-9255-91a5cad7662b</td><td>2025-02-11T10:12:52.102Z</td><td>Mumbai</td><td>SUB-15401948</td><td>SIM-907398563679218</td><td>IMEI-341639481516543</td><td>Retail</td><td>Verified</td><td>National ID</td><td>false</td><td>2.7843645362648677</td><td>0</td><td>1</td><td>1571</td><td>false</td><td>12.834176315308294</td><td>false</td><td>0.6563443818019027</td><td>0.4859352241865075</td><td>false</td><td>false</td><td>SUB-15401948|SIM-907398563679218</td></tr></tbody></table></div>"
      ]
     },
     "metadata": {
      "application/vnd.databricks.v1+output": {
       "addedWidgets": {},
       "aggData": [],
       "aggError": "",
       "aggOverflow": false,
       "aggSchema": [],
       "aggSeriesLimitReached": false,
       "aggType": "",
       "arguments": {},
       "columnCustomDisplayInfos": {},
       "data": [
        [
         "9cd424e7-9f76-47ff-bf4f-4792dfd67d4c",
         "2025-01-21T22:46:39.470Z",
         "Hyderabad",
         "SUB-93885844",
         "SIM-188262137418499",
         "IMEI-357227697300543",
         "Online",
         "Verified",
         "Passport",
         false,
         5.967494081879707,
         0,
         0,
         3467,
         false,
         115.79477149243756,
         false,
         0.13306869078655947,
         0.8902204621980692,
         false,
         false,
         "SUB-93885844|SIM-188262137418499"
        ],
        [
         "b285765e-5077-45e6-8af8-55e5b32be38b",
         "2025-01-06T07:55:33.425Z",
         "Mumbai",
         "SUB-47269321",
         "SIM-068438383236590",
         "IMEI-833253840448928",
         "Call Center",
         "Verified",
         "National ID",
         false,
         4.993648879705308,
         0,
         1,
         2739,
         false,
         10.142157785654526,
         false,
         0.6730549345844213,
         0.09573332902500431,
         false,
         false,
         "SUB-47269321|SIM-068438383236590"
        ],
        [
         "a5dbab30-dc17-4a5c-ac24-f2267a5361b7",
         "2025-01-26T09:32:29.648Z",
         "Chennai",
         "SUB-73971245",
         "SIM-193122386341361",
         "IMEI-618539206262913",
         "Online",
         "Verified",
         "Driver License",
         false,
         4.545890243414115,
         0,
         3,
         660,
         false,
         30.899774791770454,
         false,
         0.9931145247345728,
         0.16366008821202715,
         false,
         false,
         "SUB-73971245|SIM-193122386341361"
        ],
        [
         "a0e93f3f-3921-4e18-b6e3-28cb36af5144",
         "2025-01-24T01:16:20.027Z",
         "Bengaluru",
         "SUB-64155290",
         "SIM-734943405568631",
         "IMEI-180215207707254",
         "Retail",
         "Verified",
         "Driver License",
         false,
         2.469830383601289,
         0,
         0,
         1846,
         false,
         24.9920899709159,
         false,
         0.9560431109149438,
         0.20179960921898776,
         false,
         false,
         "SUB-64155290|SIM-734943405568631"
        ],
        [
         "720d6919-6af5-4e07-bf75-d862c6b2eac6",
         "2025-01-07T00:15:33.454Z",
         "Chennai",
         "SUB-60088511",
         "SIM-444228905547664",
         "IMEI-319870895760135",
         "Retail",
         "Verified",
         "National ID",
         false,
         3.6309313955822855,
         0,
         1,
         1813,
         false,
         18.222938334694685,
         false,
         0.8967713852364857,
         0.20209472749783108,
         false,
         false,
         "SUB-60088511|SIM-444228905547664"
        ],
        [
         "1fa2aab3-45f1-4c7a-a6dd-2fd3011b5a28",
         "2025-02-13T07:55:48.775Z",
         "Mumbai",
         "SUB-75420201",
         "SIM-900265736555835",
         "IMEI-571869052152941",
         "Retail",
         "Verified",
         "Driver License",
         false,
         5.793916416838977,
         0,
         0,
         499,
         false,
         3.164832009094706,
         false,
         0.013862003805906187,
         0.9100942933575021,
         false,
         false,
         "SUB-75420201|SIM-900265736555835"
        ],
        [
         "3a57ee0a-929c-4299-ad1e-77cbd2bd65f8",
         "2025-02-12T06:59:58.245Z",
         "Hyderabad",
         "SUB-05605783",
         "SIM-494510489305358",
         "IMEI-226510349382861",
         "Call Center",
         "Verified",
         "National ID",
         false,
         7.558378331167349,
         0,
         1,
         2697,
         false,
         4.1428859544711845,
         false,
         0.2472780991114355,
         0.3286724698394208,
         false,
         false,
         "SUB-05605783|SIM-494510489305358"
        ],
        [
         "2307c7fa-4d33-4f4d-9cc4-af7fe0475a38",
         "2025-01-12T20:09:45.131Z",
         "Hyderabad",
         "SUB-83602936",
         "SIM-609956716396842",
         "IMEI-038697894756325",
         "Retail",
         "Verified",
         "Driver License",
         false,
         1.184860362902835,
         0,
         0,
         2025,
         false,
         7.460800905874767,
         false,
         0.39321689906373725,
         0.4902720184289985,
         false,
         false,
         "SUB-83602936|SIM-609956716396842"
        ],
        [
         "5c22eb72-7efa-4b5e-b5c9-c1a9f814441a",
         "2025-02-13T05:22:09.479Z",
         "Mumbai",
         "SUB-44052720",
         "SIM-657504623254414",
         "IMEI-832525879454645",
         "Online",
         "Verified",
         "National ID",
         false,
         1.5423603277490257,
         2,
         2,
         2101,
         false,
         23.81182318450461,
         false,
         0.4631964709523835,
         0.7195789734409006,
         false,
         false,
         "SUB-44052720|SIM-657504623254414"
        ],
        [
         "aa726502-2349-4c2a-9255-91a5cad7662b",
         "2025-02-11T10:12:52.102Z",
         "Mumbai",
         "SUB-15401948",
         "SIM-907398563679218",
         "IMEI-341639481516543",
         "Retail",
         "Verified",
         "National ID",
         false,
         2.7843645362648677,
         0,
         1,
         1571,
         false,
         12.834176315308294,
         false,
         0.6563443818019027,
         0.4859352241865075,
         false,
         false,
         "SUB-15401948|SIM-907398563679218"
        ]
       ],
       "datasetInfos": [],
       "dbfsResultPath": null,
       "isJsonSchema": true,
       "metadata": {},
       "overflow": false,
       "plotOptions": {
        "customPlotOptions": {},
        "displayType": "table",
        "pivotAggregation": null,
        "pivotColumns": null,
        "xColumns": null,
        "yColumns": null
       },
       "removedWidgets": [],
       "schema": [
        {
         "metadata": "{}",
         "name": "event_id",
         "type": "\"string\""
        },
        {
         "metadata": "{}",
         "name": "event_time",
         "type": "\"timestamp\""
        },
        {
         "metadata": "{}",
         "name": "city",
         "type": "\"string\""
        },
        {
         "metadata": "{}",
         "name": "subscriber_id",
         "type": "\"string\""
        },
        {
         "metadata": "{}",
         "name": "sim_serial",
         "type": "\"string\""
        },
        {
         "metadata": "{}",
         "name": "device_imei",
         "type": "\"string\""
        },
        {
         "metadata": "{}",
         "name": "activation_channel",
         "type": "\"string\""
        },
        {
         "metadata": "{}",
         "name": "kyc_status",
         "type": "\"string\""
        },
        {
         "metadata": "{}",
         "name": "identity_document_type",
         "type": "\"string\""
        },
        {
         "metadata": "{}",
         "name": "identity_mismatch_flag",
         "type": "\"boolean\""
        },
        {
         "metadata": "{}",
         "name": "location_variance_km",
         "type": "\"double\""
        },
        {
         "metadata": "{}",
         "name": "failed_verification_attempts",
         "type": "\"integer\""
        },
        {
         "metadata": "{}",
         "name": "recent_sim_swaps_30d",
         "type": "\"integer\""
        },
        {
         "metadata": "{}",
         "name": "account_age_days",
         "type": "\"integer\""
        },
        {
         "metadata": "{}",
         "name": "high_risk_country_flag",
         "type": "\"boolean\""
        },
        {
         "metadata": "{}",
         "name": "topup_amount_last_24h",
         "type": "\"double\""
        },
        {
         "metadata": "{}",
         "name": "suspicious_transaction_flag",
         "type": "\"boolean\""
        },
        {
         "metadata": "{}",
         "name": "fraud_alert_score",
         "type": "\"double\""
        },
        {
         "metadata": "{}",
         "name": "travel_pattern_score",
         "type": "\"double\""
        },
        {
         "metadata": "{}",
         "name": "blacklist_match_flag",
         "type": "\"boolean\""
        },
        {
         "metadata": "{}",
         "name": "escalated_to_fraud_team",
         "type": "\"boolean\""
        },
        {
         "metadata": "{}",
         "name": "key",
         "type": "\"string\""
        }
       ],
       "type": "table"
      }
     },
     "output_type": "display_data"
    },
    {
     "output_type": "stream",
     "name": "stdout",
     "output_type": "stream",
     "text": [
      "\n===== Showing: sim_detection.gold =====\n\n"
     ]
    },
    {
     "output_type": "display_data",
     "data": {
      "text/html": [
       "<style scoped>\n",
       "  .table-result-container {\n",
       "    max-height: 300px;\n",
       "    overflow: auto;\n",
       "  }\n",
       "  table, th, td {\n",
       "    border: 1px solid black;\n",
       "    border-collapse: collapse;\n",
       "  }\n",
       "  th, td {\n",
       "    padding: 5px;\n",
       "  }\n",
       "  th {\n",
       "    text-align: left;\n",
       "  }\n",
       "</style><div class='table-result-container'><table class='table-result'><thead style='background-color: white'><tr><th>event_id</th><th>event_time</th><th>city</th><th>subscriber_id</th><th>sim_serial</th><th>device_imei</th><th>activation_channel</th><th>kyc_status</th><th>identity_document_type</th><th>identity_mismatch_flag</th><th>location_variance_km</th><th>failed_verification_attempts</th><th>recent_sim_swaps_30d</th><th>account_age_days</th><th>high_risk_country_flag</th><th>topup_amount_last_24h</th><th>suspicious_transaction_flag</th><th>fraud_alert_score</th><th>travel_pattern_score</th><th>blacklist_match_flag</th><th>escalated_to_fraud_team</th><th>key</th><th>high_fraud_alert_flag</th><th>recent_sim_swap_flag</th><th>many_failed_verifications_flag</th></tr></thead><tbody><tr><td>9cd424e7-9f76-47ff-bf4f-4792dfd67d4c</td><td>2025-01-21T22:46:39.470Z</td><td>Hyderabad</td><td>SUB-93885844</td><td>SIM-188262137418499</td><td>IMEI-357227697300543</td><td>Online</td><td>Verified</td><td>Passport</td><td>false</td><td>5.967494081879707</td><td>0</td><td>0</td><td>3467</td><td>false</td><td>115.79477149243756</td><td>false</td><td>0.13306869078655947</td><td>0.8902204621980692</td><td>false</td><td>false</td><td>SUB-93885844|SIM-188262137418499</td><td>0</td><td>0</td><td>0</td></tr><tr><td>b285765e-5077-45e6-8af8-55e5b32be38b</td><td>2025-01-06T07:55:33.425Z</td><td>Mumbai</td><td>SUB-47269321</td><td>SIM-068438383236590</td><td>IMEI-833253840448928</td><td>Call Center</td><td>Verified</td><td>National ID</td><td>false</td><td>4.993648879705308</td><td>0</td><td>1</td><td>2739</td><td>false</td><td>10.142157785654526</td><td>false</td><td>0.6730549345844213</td><td>0.09573332902500431</td><td>false</td><td>false</td><td>SUB-47269321|SIM-068438383236590</td><td>0</td><td>1</td><td>0</td></tr><tr><td>a5dbab30-dc17-4a5c-ac24-f2267a5361b7</td><td>2025-01-26T09:32:29.648Z</td><td>Chennai</td><td>SUB-73971245</td><td>SIM-193122386341361</td><td>IMEI-618539206262913</td><td>Online</td><td>Verified</td><td>Driver License</td><td>false</td><td>4.545890243414115</td><td>0</td><td>3</td><td>660</td><td>false</td><td>30.899774791770454</td><td>false</td><td>0.9931145247345728</td><td>0.16366008821202715</td><td>false</td><td>false</td><td>SUB-73971245|SIM-193122386341361</td><td>1</td><td>1</td><td>0</td></tr><tr><td>a0e93f3f-3921-4e18-b6e3-28cb36af5144</td><td>2025-01-24T01:16:20.027Z</td><td>Bengaluru</td><td>SUB-64155290</td><td>SIM-734943405568631</td><td>IMEI-180215207707254</td><td>Retail</td><td>Verified</td><td>Driver License</td><td>false</td><td>2.469830383601289</td><td>0</td><td>0</td><td>1846</td><td>false</td><td>24.9920899709159</td><td>false</td><td>0.9560431109149438</td><td>0.20179960921898776</td><td>false</td><td>false</td><td>SUB-64155290|SIM-734943405568631</td><td>1</td><td>0</td><td>0</td></tr><tr><td>720d6919-6af5-4e07-bf75-d862c6b2eac6</td><td>2025-01-07T00:15:33.454Z</td><td>Chennai</td><td>SUB-60088511</td><td>SIM-444228905547664</td><td>IMEI-319870895760135</td><td>Retail</td><td>Verified</td><td>National ID</td><td>false</td><td>3.6309313955822855</td><td>0</td><td>1</td><td>1813</td><td>false</td><td>18.222938334694685</td><td>false</td><td>0.8967713852364857</td><td>0.20209472749783108</td><td>false</td><td>false</td><td>SUB-60088511|SIM-444228905547664</td><td>1</td><td>1</td><td>0</td></tr><tr><td>1fa2aab3-45f1-4c7a-a6dd-2fd3011b5a28</td><td>2025-02-13T07:55:48.775Z</td><td>Mumbai</td><td>SUB-75420201</td><td>SIM-900265736555835</td><td>IMEI-571869052152941</td><td>Retail</td><td>Verified</td><td>Driver License</td><td>false</td><td>5.793916416838977</td><td>0</td><td>0</td><td>499</td><td>false</td><td>3.164832009094706</td><td>false</td><td>0.013862003805906187</td><td>0.9100942933575021</td><td>false</td><td>false</td><td>SUB-75420201|SIM-900265736555835</td><td>0</td><td>0</td><td>0</td></tr><tr><td>3a57ee0a-929c-4299-ad1e-77cbd2bd65f8</td><td>2025-02-12T06:59:58.245Z</td><td>Hyderabad</td><td>SUB-05605783</td><td>SIM-494510489305358</td><td>IMEI-226510349382861</td><td>Call Center</td><td>Verified</td><td>National ID</td><td>false</td><td>7.558378331167349</td><td>0</td><td>1</td><td>2697</td><td>false</td><td>4.1428859544711845</td><td>false</td><td>0.2472780991114355</td><td>0.3286724698394208</td><td>false</td><td>false</td><td>SUB-05605783|SIM-494510489305358</td><td>0</td><td>1</td><td>0</td></tr><tr><td>2307c7fa-4d33-4f4d-9cc4-af7fe0475a38</td><td>2025-01-12T20:09:45.131Z</td><td>Hyderabad</td><td>SUB-83602936</td><td>SIM-609956716396842</td><td>IMEI-038697894756325</td><td>Retail</td><td>Verified</td><td>Driver License</td><td>false</td><td>1.184860362902835</td><td>0</td><td>0</td><td>2025</td><td>false</td><td>7.460800905874767</td><td>false</td><td>0.39321689906373725</td><td>0.4902720184289985</td><td>false</td><td>false</td><td>SUB-83602936|SIM-609956716396842</td><td>0</td><td>0</td><td>0</td></tr><tr><td>5c22eb72-7efa-4b5e-b5c9-c1a9f814441a</td><td>2025-02-13T05:22:09.479Z</td><td>Mumbai</td><td>SUB-44052720</td><td>SIM-657504623254414</td><td>IMEI-832525879454645</td><td>Online</td><td>Verified</td><td>National ID</td><td>false</td><td>1.5423603277490257</td><td>2</td><td>2</td><td>2101</td><td>false</td><td>23.81182318450461</td><td>false</td><td>0.4631964709523835</td><td>0.7195789734409006</td><td>false</td><td>false</td><td>SUB-44052720|SIM-657504623254414</td><td>0</td><td>1</td><td>0</td></tr><tr><td>aa726502-2349-4c2a-9255-91a5cad7662b</td><td>2025-02-11T10:12:52.102Z</td><td>Mumbai</td><td>SUB-15401948</td><td>SIM-907398563679218</td><td>IMEI-341639481516543</td><td>Retail</td><td>Verified</td><td>National ID</td><td>false</td><td>2.7843645362648677</td><td>0</td><td>1</td><td>1571</td><td>false</td><td>12.834176315308294</td><td>false</td><td>0.6563443818019027</td><td>0.4859352241865075</td><td>false</td><td>false</td><td>SUB-15401948|SIM-907398563679218</td><td>0</td><td>1</td><td>0</td></tr></tbody></table></div>"
      ]
     },
     "metadata": {
      "application/vnd.databricks.v1+output": {
       "addedWidgets": {},
       "aggData": [],
       "aggError": "",
       "aggOverflow": false,
       "aggSchema": [],
       "aggSeriesLimitReached": false,
       "aggType": "",
       "arguments": {},
       "columnCustomDisplayInfos": {},
       "data": [
        [
         "9cd424e7-9f76-47ff-bf4f-4792dfd67d4c",
         "2025-01-21T22:46:39.470Z",
         "Hyderabad",
         "SUB-93885844",
         "SIM-188262137418499",
         "IMEI-357227697300543",
         "Online",
         "Verified",
         "Passport",
         false,
         5.967494081879707,
         0,
         0,
         3467,
         false,
         115.79477149243756,
         false,
         0.13306869078655947,
         0.8902204621980692,
         false,
         false,
         "SUB-93885844|SIM-188262137418499",
         0,
         0,
         0
        ],
        [
         "b285765e-5077-45e6-8af8-55e5b32be38b",
         "2025-01-06T07:55:33.425Z",
         "Mumbai",
         "SUB-47269321",
         "SIM-068438383236590",
         "IMEI-833253840448928",
         "Call Center",
         "Verified",
         "National ID",
         false,
         4.993648879705308,
         0,
         1,
         2739,
         false,
         10.142157785654526,
         false,
         0.6730549345844213,
         0.09573332902500431,
         false,
         false,
         "SUB-47269321|SIM-068438383236590",
         0,
         1,
         0
        ],
        [
         "a5dbab30-dc17-4a5c-ac24-f2267a5361b7",
         "2025-01-26T09:32:29.648Z",
         "Chennai",
         "SUB-73971245",
         "SIM-193122386341361",
         "IMEI-618539206262913",
         "Online",
         "Verified",
         "Driver License",
         false,
         4.545890243414115,
         0,
         3,
         660,
         false,
         30.899774791770454,
         false,
         0.9931145247345728,
         0.16366008821202715,
         false,
         false,
         "SUB-73971245|SIM-193122386341361",
         1,
         1,
         0
        ],
        [
         "a0e93f3f-3921-4e18-b6e3-28cb36af5144",
         "2025-01-24T01:16:20.027Z",
         "Bengaluru",
         "SUB-64155290",
         "SIM-734943405568631",
         "IMEI-180215207707254",
         "Retail",
         "Verified",
         "Driver License",
         false,
         2.469830383601289,
         0,
         0,
         1846,
         false,
         24.9920899709159,
         false,
         0.9560431109149438,
         0.20179960921898776,
         false,
         false,
         "SUB-64155290|SIM-734943405568631",
         1,
         0,
         0
        ],
        [
         "720d6919-6af5-4e07-bf75-d862c6b2eac6",
         "2025-01-07T00:15:33.454Z",
         "Chennai",
         "SUB-60088511",
         "SIM-444228905547664",
         "IMEI-319870895760135",
         "Retail",
         "Verified",
         "National ID",
         false,
         3.6309313955822855,
         0,
         1,
         1813,
         false,
         18.222938334694685,
         false,
         0.8967713852364857,
         0.20209472749783108,
         false,
         false,
         "SUB-60088511|SIM-444228905547664",
         1,
         1,
         0
        ],
        [
         "1fa2aab3-45f1-4c7a-a6dd-2fd3011b5a28",
         "2025-02-13T07:55:48.775Z",
         "Mumbai",
         "SUB-75420201",
         "SIM-900265736555835",
         "IMEI-571869052152941",
         "Retail",
         "Verified",
         "Driver License",
         false,
         5.793916416838977,
         0,
         0,
         499,
         false,
         3.164832009094706,
         false,
         0.013862003805906187,
         0.9100942933575021,
         false,
         false,
         "SUB-75420201|SIM-900265736555835",
         0,
         0,
         0
        ],
        [
         "3a57ee0a-929c-4299-ad1e-77cbd2bd65f8",
         "2025-02-12T06:59:58.245Z",
         "Hyderabad",
         "SUB-05605783",
         "SIM-494510489305358",
         "IMEI-226510349382861",
         "Call Center",
         "Verified",
         "National ID",
         false,
         7.558378331167349,
         0,
         1,
         2697,
         false,
         4.1428859544711845,
         false,
         0.2472780991114355,
         0.3286724698394208,
         false,
         false,
         "SUB-05605783|SIM-494510489305358",
         0,
         1,
         0
        ],
        [
         "2307c7fa-4d33-4f4d-9cc4-af7fe0475a38",
         "2025-01-12T20:09:45.131Z",
         "Hyderabad",
         "SUB-83602936",
         "SIM-609956716396842",
         "IMEI-038697894756325",
         "Retail",
         "Verified",
         "Driver License",
         false,
         1.184860362902835,
         0,
         0,
         2025,
         false,
         7.460800905874767,
         false,
         0.39321689906373725,
         0.4902720184289985,
         false,
         false,
         "SUB-83602936|SIM-609956716396842",
         0,
         0,
         0
        ],
        [
         "5c22eb72-7efa-4b5e-b5c9-c1a9f814441a",
         "2025-02-13T05:22:09.479Z",
         "Mumbai",
         "SUB-44052720",
         "SIM-657504623254414",
         "IMEI-832525879454645",
         "Online",
         "Verified",
         "National ID",
         false,
         1.5423603277490257,
         2,
         2,
         2101,
         false,
         23.81182318450461,
         false,
         0.4631964709523835,
         0.7195789734409006,
         false,
         false,
         "SUB-44052720|SIM-657504623254414",
         0,
         1,
         0
        ],
        [
         "aa726502-2349-4c2a-9255-91a5cad7662b",
         "2025-02-11T10:12:52.102Z",
         "Mumbai",
         "SUB-15401948",
         "SIM-907398563679218",
         "IMEI-341639481516543",
         "Retail",
         "Verified",
         "National ID",
         false,
         2.7843645362648677,
         0,
         1,
         1571,
         false,
         12.834176315308294,
         false,
         0.6563443818019027,
         0.4859352241865075,
         false,
         false,
         "SUB-15401948|SIM-907398563679218",
         0,
         1,
         0
        ]
       ],
       "datasetInfos": [],
       "dbfsResultPath": null,
       "isJsonSchema": true,
       "metadata": {},
       "overflow": false,
       "plotOptions": {
        "customPlotOptions": {},
        "displayType": "table",
        "pivotAggregation": null,
        "pivotColumns": null,
        "xColumns": null,
        "yColumns": null
       },
       "removedWidgets": [],
       "schema": [
        {
         "metadata": "{}",
         "name": "event_id",
         "type": "\"string\""
        },
        {
         "metadata": "{}",
         "name": "event_time",
         "type": "\"timestamp\""
        },
        {
         "metadata": "{}",
         "name": "city",
         "type": "\"string\""
        },
        {
         "metadata": "{}",
         "name": "subscriber_id",
         "type": "\"string\""
        },
        {
         "metadata": "{}",
         "name": "sim_serial",
         "type": "\"string\""
        },
        {
         "metadata": "{}",
         "name": "device_imei",
         "type": "\"string\""
        },
        {
         "metadata": "{}",
         "name": "activation_channel",
         "type": "\"string\""
        },
        {
         "metadata": "{}",
         "name": "kyc_status",
         "type": "\"string\""
        },
        {
         "metadata": "{}",
         "name": "identity_document_type",
         "type": "\"string\""
        },
        {
         "metadata": "{}",
         "name": "identity_mismatch_flag",
         "type": "\"boolean\""
        },
        {
         "metadata": "{}",
         "name": "location_variance_km",
         "type": "\"double\""
        },
        {
         "metadata": "{}",
         "name": "failed_verification_attempts",
         "type": "\"integer\""
        },
        {
         "metadata": "{}",
         "name": "recent_sim_swaps_30d",
         "type": "\"integer\""
        },
        {
         "metadata": "{}",
         "name": "account_age_days",
         "type": "\"integer\""
        },
        {
         "metadata": "{}",
         "name": "high_risk_country_flag",
         "type": "\"boolean\""
        },
        {
         "metadata": "{}",
         "name": "topup_amount_last_24h",
         "type": "\"double\""
        },
        {
         "metadata": "{}",
         "name": "suspicious_transaction_flag",
         "type": "\"boolean\""
        },
        {
         "metadata": "{}",
         "name": "fraud_alert_score",
         "type": "\"double\""
        },
        {
         "metadata": "{}",
         "name": "travel_pattern_score",
         "type": "\"double\""
        },
        {
         "metadata": "{}",
         "name": "blacklist_match_flag",
         "type": "\"boolean\""
        },
        {
         "metadata": "{}",
         "name": "escalated_to_fraud_team",
         "type": "\"boolean\""
        },
        {
         "metadata": "{}",
         "name": "key",
         "type": "\"string\""
        },
        {
         "metadata": "{}",
         "name": "high_fraud_alert_flag",
         "type": "\"integer\""
        },
        {
         "metadata": "{}",
         "name": "recent_sim_swap_flag",
         "type": "\"integer\""
        },
        {
         "metadata": "{}",
         "name": "many_failed_verifications_flag",
         "type": "\"integer\""
        }
       ],
       "type": "table"
      }
     },
     "output_type": "display_data"
    },
    {
     "output_type": "stream",
     "name": "stdout",
     "output_type": "stream",
     "text": [
      "\n===== Showing: sim_detection.kpi_city_counts =====\n\n"
     ]
    },
    {
     "output_type": "display_data",
     "data": {
      "text/html": [
       "<style scoped>\n",
       "  .table-result-container {\n",
       "    max-height: 300px;\n",
       "    overflow: auto;\n",
       "  }\n",
       "  table, th, td {\n",
       "    border: 1px solid black;\n",
       "    border-collapse: collapse;\n",
       "  }\n",
       "  th, td {\n",
       "    padding: 5px;\n",
       "  }\n",
       "  th {\n",
       "    text-align: left;\n",
       "  }\n",
       "</style><div class='table-result-container'><table class='table-result'><thead style='background-color: white'><tr><th>city</th><th>total_events</th></tr></thead><tbody><tr><td>Bengaluru</td><td>150630</td></tr><tr><td>Chennai</td><td>100454</td></tr><tr><td>Delhi</td><td>99843</td></tr><tr><td>Mumbai</td><td>99631</td></tr><tr><td>Hyderabad</td><td>49442</td></tr></tbody></table></div>"
      ]
     },
     "metadata": {
      "application/vnd.databricks.v1+output": {
       "addedWidgets": {},
       "aggData": [],
       "aggError": "",
       "aggOverflow": false,
       "aggSchema": [],
       "aggSeriesLimitReached": false,
       "aggType": "",
       "arguments": {},
       "columnCustomDisplayInfos": {},
       "data": [
        [
         "Bengaluru",
         150630
        ],
        [
         "Chennai",
         100454
        ],
        [
         "Delhi",
         99843
        ],
        [
         "Mumbai",
         99631
        ],
        [
         "Hyderabad",
         49442
        ]
       ],
       "datasetInfos": [],
       "dbfsResultPath": null,
       "isJsonSchema": true,
       "metadata": {},
       "overflow": false,
       "plotOptions": {
        "customPlotOptions": {},
        "displayType": "table",
        "pivotAggregation": null,
        "pivotColumns": null,
        "xColumns": null,
        "yColumns": null
       },
       "removedWidgets": [],
       "schema": [
        {
         "metadata": "{}",
         "name": "city",
         "type": "\"string\""
        },
        {
         "metadata": "{}",
         "name": "total_events",
         "type": "\"long\""
        }
       ],
       "type": "table"
      }
     },
     "output_type": "display_data"
    },
    {
     "output_type": "stream",
     "name": "stdout",
     "output_type": "stream",
     "text": [
      "\n===== Showing: sim_detection.kpi_avg_fraud_by_city =====\n\n"
     ]
    },
    {
     "output_type": "display_data",
     "data": {
      "text/html": [
       "<style scoped>\n",
       "  .table-result-container {\n",
       "    max-height: 300px;\n",
       "    overflow: auto;\n",
       "  }\n",
       "  table, th, td {\n",
       "    border: 1px solid black;\n",
       "    border-collapse: collapse;\n",
       "  }\n",
       "  th, td {\n",
       "    padding: 5px;\n",
       "  }\n",
       "  th {\n",
       "    text-align: left;\n",
       "  }\n",
       "</style><div class='table-result-container'><table class='table-result'><thead style='background-color: white'><tr><th>city</th><th>avg_fraud_alert_score</th></tr></thead><tbody><tr><td>Chennai</td><td>0.5008</td></tr><tr><td>Delhi</td><td>0.5002</td></tr><tr><td>Mumbai</td><td>0.4995</td></tr><tr><td>Bengaluru</td><td>0.5006</td></tr><tr><td>Hyderabad</td><td>0.4981</td></tr></tbody></table></div>"
      ]
     },
     "metadata": {
      "application/vnd.databricks.v1+output": {
       "addedWidgets": {},
       "aggData": [],
       "aggError": "",
       "aggOverflow": false,
       "aggSchema": [],
       "aggSeriesLimitReached": false,
       "aggType": "",
       "arguments": {},
       "columnCustomDisplayInfos": {},
       "data": [
        [
         "Chennai",
         0.5008
        ],
        [
         "Delhi",
         0.5002
        ],
        [
         "Mumbai",
         0.4995
        ],
        [
         "Bengaluru",
         0.5006
        ],
        [
         "Hyderabad",
         0.4981
        ]
       ],
       "datasetInfos": [],
       "dbfsResultPath": null,
       "isJsonSchema": true,
       "metadata": {},
       "overflow": false,
       "plotOptions": {
        "customPlotOptions": {},
        "displayType": "table",
        "pivotAggregation": null,
        "pivotColumns": null,
        "xColumns": null,
        "yColumns": null
       },
       "removedWidgets": [],
       "schema": [
        {
         "metadata": "{}",
         "name": "city",
         "type": "\"string\""
        },
        {
         "metadata": "{}",
         "name": "avg_fraud_alert_score",
         "type": "\"double\""
        }
       ],
       "type": "table"
      }
     },
     "output_type": "display_data"
    },
    {
     "output_type": "stream",
     "name": "stdout",
     "output_type": "stream",
     "text": [
      "\n===== Showing: sim_detection.kpi_suspicious_summary =====\n\n"
     ]
    },
    {
     "output_type": "display_data",
     "data": {
      "text/html": [
       "<style scoped>\n",
       "  .table-result-container {\n",
       "    max-height: 300px;\n",
       "    overflow: auto;\n",
       "  }\n",
       "  table, th, td {\n",
       "    border: 1px solid black;\n",
       "    border-collapse: collapse;\n",
       "  }\n",
       "  th, td {\n",
       "    padding: 5px;\n",
       "  }\n",
       "  th {\n",
       "    text-align: left;\n",
       "  }\n",
       "</style><div class='table-result-container'><table class='table-result'><thead style='background-color: white'><tr><th>total_events</th><th>suspicious_count</th><th>suspicious_percentage</th></tr></thead><tbody><tr><td>500000</td><td>25045</td><td>5.01</td></tr></tbody></table></div>"
      ]
     },
     "metadata": {
      "application/vnd.databricks.v1+output": {
       "addedWidgets": {},
       "aggData": [],
       "aggError": "",
       "aggOverflow": false,
       "aggSchema": [],
       "aggSeriesLimitReached": false,
       "aggType": "",
       "arguments": {},
       "columnCustomDisplayInfos": {},
       "data": [
        [
         500000,
         25045,
         5.01
        ]
       ],
       "datasetInfos": [],
       "dbfsResultPath": null,
       "isJsonSchema": true,
       "metadata": {},
       "overflow": false,
       "plotOptions": {
        "customPlotOptions": {},
        "displayType": "table",
        "pivotAggregation": null,
        "pivotColumns": null,
        "xColumns": null,
        "yColumns": null
       },
       "removedWidgets": [],
       "schema": [
        {
         "metadata": "{}",
         "name": "total_events",
         "type": "\"long\""
        },
        {
         "metadata": "{}",
         "name": "suspicious_count",
         "type": "\"long\""
        },
        {
         "metadata": "{}",
         "name": "suspicious_percentage",
         "type": "\"double\""
        }
       ],
       "type": "table"
      }
     },
     "output_type": "display_data"
    },
    {
     "output_type": "stream",
     "name": "stdout",
     "output_type": "stream",
     "text": [
      "\n===== Showing: sim_detection.kpi_high_risk_summary =====\n\n"
     ]
    },
    {
     "output_type": "display_data",
     "data": {
      "text/html": [
       "<style scoped>\n",
       "  .table-result-container {\n",
       "    max-height: 300px;\n",
       "    overflow: auto;\n",
       "  }\n",
       "  table, th, td {\n",
       "    border: 1px solid black;\n",
       "    border-collapse: collapse;\n",
       "  }\n",
       "  th, td {\n",
       "    padding: 5px;\n",
       "  }\n",
       "  th {\n",
       "    text-align: left;\n",
       "  }\n",
       "</style><div class='table-result-container'><table class='table-result'><thead style='background-color: white'><tr><th>total_events</th><th>high_risk_count</th><th>high_risk_percentage</th></tr></thead><tbody><tr><td>500000</td><td>30127</td><td>6.03</td></tr></tbody></table></div>"
      ]
     },
     "metadata": {
      "application/vnd.databricks.v1+output": {
       "addedWidgets": {},
       "aggData": [],
       "aggError": "",
       "aggOverflow": false,
       "aggSchema": [],
       "aggSeriesLimitReached": false,
       "aggType": "",
       "arguments": {},
       "columnCustomDisplayInfos": {},
       "data": [
        [
         500000,
         30127,
         6.03
        ]
       ],
       "datasetInfos": [],
       "dbfsResultPath": null,
       "isJsonSchema": true,
       "metadata": {},
       "overflow": false,
       "plotOptions": {
        "customPlotOptions": {},
        "displayType": "table",
        "pivotAggregation": null,
        "pivotColumns": null,
        "xColumns": null,
        "yColumns": null
       },
       "removedWidgets": [],
       "schema": [
        {
         "metadata": "{}",
         "name": "total_events",
         "type": "\"long\""
        },
        {
         "metadata": "{}",
         "name": "high_risk_count",
         "type": "\"long\""
        },
        {
         "metadata": "{}",
         "name": "high_risk_percentage",
         "type": "\"double\""
        }
       ],
       "type": "table"
      }
     },
     "output_type": "display_data"
    }
   ],
   "source": [
    "# Display all important tables in a single cell (one after the other)\n",
    "\n",
    "tables = [\n",
    "    \"sim_detection.bronze\",\n",
    "    \"sim_detection.silver\",\n",
    "    \"sim_detection.gold\",\n",
    "    \"sim_detection.kpi_city_counts\",\n",
    "    \"sim_detection.kpi_avg_fraud_by_city\",\n",
    "    \"sim_detection.kpi_suspicious_summary\",\n",
    "    \"sim_detection.kpi_high_risk_summary\"\n",
    "]\n",
    "\n",
    "for t in tables:\n",
    "    print(f\"\\n===== Showing: {t} =====\\n\")\n",
    "    df = spark.table(t).limit(10)\n",
    "    display(df)\n"
   ]
  }
 ],
 "metadata": {
  "application/vnd.databricks.v1+notebook": {
   "computePreferences": null,
   "dashboards": [],
   "environmentMetadata": {
    "base_environment": "",
    "environment_version": "4"
   },
   "inputWidgetPreferences": null,
   "language": "python",
   "notebookMetadata": {
    "pythonIndentUnit": 4
   },
   "notebookName": "sim-identity fraud det",
   "widgets": {}
  },
  "language_info": {
   "name": "python"
  }
 },
 "nbformat": 4,
 "nbformat_minor": 0
}